{
  "nbformat": 4,
  "nbformat_minor": 0,
  "metadata": {
    "colab": {
      "provenance": [],
      "authorship_tag": "ABX9TyMshukb/6ifxSVPn5r3Zg1W",
      "include_colab_link": true
    },
    "kernelspec": {
      "name": "python3",
      "display_name": "Python 3"
    },
    "language_info": {
      "name": "python"
    }
  },
  "cells": [
    {
      "cell_type": "markdown",
      "metadata": {
        "id": "view-in-github",
        "colab_type": "text"
      },
      "source": [
        "<a href=\"https://colab.research.google.com/github/DanielBelcode/projects/blob/main/Dijkstra_Alg.ipynb\" target=\"_parent\"><img src=\"https://colab.research.google.com/assets/colab-badge.svg\" alt=\"Open In Colab\"/></a>"
      ]
    },
    {
      "cell_type": "markdown",
      "source": [
        "**Задача про Алгоритм Дейкстры**\n",
        "\n",
        "Задача: написать алгоритм Дейкстры для произвольного ориентированного графа."
      ],
      "metadata": {
        "id": "Lf3Lxbl7Fw43"
      }
    },
    {
      "cell_type": "code",
      "source": [
        "#Инициализация\n",
        "N = int(input(\"Введите количество вершин в графе: \"))\n",
        "A = input(\"На вход принимаются графы вида: ;a/b1/c2;b/a1/c3;c/a2/b3; \\nВведите граф: \")\n",
        "graph = {}\n",
        "p = 0"
      ],
      "metadata": {
        "colab": {
          "base_uri": "https://localhost:8080/"
        },
        "id": "OOnj1rOvPS_g",
        "outputId": "52d4235d-4088-4329-aa7d-d21e536c4c6c"
      },
      "execution_count": 3,
      "outputs": [
        {
          "name": "stdout",
          "output_type": "stream",
          "text": [
            "Введите количество вершин в графе: 3\n",
            "На вход принимаются графы вида: ;a/b1/c2;b/a1/c3;c/a2/b3; \n",
            "Введите граф: ;a/b1/c2;b/a1/c3;c/a2/b3;\n"
          ]
        }
      ]
    },
    {
      "cell_type": "code",
      "source": [
        "#Заполнение графа\n",
        "for i in range(N):\n",
        "       r = A.find(';')\n",
        "       A = A.replace(';',':',1)\n",
        "       g = A.find(';')\n",
        "       if g==N-1:\n",
        "        break\n",
        "       graph[A[r+1]] = {}\n",
        "       while p < g-1:\n",
        "              s = A.find('/')\n",
        "              A = A.replace('/',':',1)\n",
        "              p = A.find('/')\n",
        "              if p > g or p == -1:\n",
        "                     p = g\n",
        "              graph[A[r+1]].update({A[s+1]: int(A[s+2:p])})"
      ],
      "metadata": {
        "id": "Bjf4PeZhPay_"
      },
      "execution_count": 4,
      "outputs": []
    },
    {
      "cell_type": "code",
      "source": [
        "#Записываем расстояния между соседями в массив\n",
        "infinity = float(\"inf\")\n",
        "costs = {}\n",
        "for k in graph.keys():\n",
        "       if k == A[1]:\n",
        "              costs.update({k: 0})\n",
        "       elif (graph.get(A[1])).get(k) is not None:\n",
        "              costs.update({k: (graph.get(A[1])).get(k)})\n",
        "       else:\n",
        "              costs.update({k: infinity})"
      ],
      "metadata": {
        "id": "3_BAtETnSGtq"
      },
      "execution_count": 5,
      "outputs": []
    },
    {
      "cell_type": "code",
      "source": [
        "#Записываем словарь с родителями\n",
        "parents = {}\n",
        "\n",
        "for k in (graph.get(A[1])).keys():\n",
        "    parents.update({k: A[1]})"
      ],
      "metadata": {
        "id": "2LVYuBH7Vo7i"
      },
      "execution_count": 9,
      "outputs": []
    },
    {
      "cell_type": "code",
      "source": [
        "#Функция для поиска минимального узла в графе\n",
        "def find_minimum_node(costs, processed):\n",
        "       minimum_cost = infinity\n",
        "       minimum_node = A[1]\n",
        "       for k in costs.keys():\n",
        "              if k not in processed and costs[k] < minimum_cost:\n",
        "                     minimum_cost = costs[k]\n",
        "                     minimum_node = k\n",
        "       processed.append(minimum_node)\n",
        "       if processed.count(minimum_node)<2:\n",
        "              return minimum_node"
      ],
      "metadata": {
        "id": "5Y2vuErIWPZW"
      },
      "execution_count": null,
      "outputs": []
    },
    {
      "cell_type": "code",
      "execution_count": 11,
      "metadata": {
        "colab": {
          "base_uri": "https://localhost:8080/"
        },
        "id": "JG93ENAADJqz",
        "outputId": "71dcae1d-709b-44c3-ccd0-7c003e720ccd"
      },
      "outputs": [
        {
          "output_type": "stream",
          "name": "stdout",
          "text": [
            "2\n"
          ]
        }
      ],
      "source": [
        "#Поиск кратчайшего пути до конечной вершины\n",
        "processed = []\n",
        "\n",
        "minimum_node = find_minimum_node(costs, processed)\n",
        "\n",
        "while minimum_node is not None:\n",
        "       neighbors = graph[minimum_node]\n",
        "       for k in neighbors.keys():\n",
        "              if costs[k] > costs[minimum_node] + neighbors[k]:\n",
        "                     costs[k] = costs[minimum_node] + neighbors[k]\n",
        "                     parents[k] = minimum_node\n",
        "       minimum_node = find_minimum_node(costs, processed)\n",
        "\n",
        "print(costs[A[r+1]])"
      ]
    }
  ]
}